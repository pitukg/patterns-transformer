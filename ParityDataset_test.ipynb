{
 "cells": [
  {
   "cell_type": "code",
   "execution_count": 1,
   "metadata": {},
   "outputs": [
    {
     "name": "stdout",
     "output_type": "stream",
     "text": [
      "Sample 0:\n",
      "  Tokens: ['<circle>', '<triangle>', '<circle>', '<triangle>', '<triangle>', '<circle>', '<circle>', '<triangle>', '<rectangle>']\n",
      "  Label: 0\n",
      "------------------------------\n",
      "Sample 1:\n",
      "  Tokens: ['<triangle>', '<rectangle>', '<circle>', '<circle>', '<circle>', '<triangle>', '<triangle>', '<triangle>', '<circle>']\n",
      "  Label: 0\n",
      "------------------------------\n",
      "Sample 2:\n",
      "  Tokens: ['<circle>', '<circle>', '<rectangle>', '<triangle>', '<rectangle>', '<rectangle>', '<circle>', '<triangle>', '<circle>']\n",
      "  Label: 0\n",
      "------------------------------\n",
      "Sample 3:\n",
      "  Tokens: ['<rectangle>', '<circle>', '<rectangle>', '<rectangle>', '<triangle>', '<circle>', '<rectangle>', '<circle>', '<triangle>']\n",
      "  Label: 0\n",
      "------------------------------\n",
      "Sample 4:\n",
      "  Tokens: ['<circle>', '<rectangle>', '<rectangle>', '<rectangle>', '<circle>', '<circle>', '<circle>', '<triangle>', '<circle>']\n",
      "  Label: 0\n",
      "------------------------------\n"
     ]
    }
   ],
   "source": [
    "import torch\n",
    "from data import ParityDataset, TOKENS\n",
    "\n",
    "# Create a small dataset\n",
    "seq_len = 9\n",
    "dataset = ParityDataset(length=5, seq_len=seq_len, pre_generate=False, seed=123)\n",
    "\n",
    "for i in range(len(dataset)):\n",
    "    input_ids, label = dataset[i]\n",
    "    tokens = [TOKENS[idx] for idx in input_ids.tolist()]\n",
    "    print(f'Sample {i}:')\n",
    "    print('  Tokens:', tokens)\n",
    "    print('  Label:', label)\n",
    "    print('-' * 30)"
   ]
  }
 ],
 "metadata": {
  "kernelspec": {
   "display_name": "Python 3 (ipykernel)",
   "language": "python",
   "name": "python3"
  },
  "language_info": {
   "codemirror_mode": {
    "name": "ipython",
    "version": 3
   },
   "file_extension": ".py",
   "mimetype": "text/x-python",
   "name": "python",
   "nbconvert_exporter": "python",
   "pygments_lexer": "ipython3",
   "version": "3.13.1"
  }
 },
 "nbformat": 4,
 "nbformat_minor": 4
}
