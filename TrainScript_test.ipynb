{
 "cells": [
  {
   "cell_type": "code",
   "execution_count": 3,
   "metadata": {},
   "outputs": [
    {
     "name": "stderr",
     "output_type": "stream",
     "text": [
      "Epoch 1 [train]: 100%|████████████████████████████████████████████████████████████████████████████████████| 8/8 [00:00<00:00, 190.73it/s]\n"
     ]
    },
    {
     "name": "stdout",
     "output_type": "stream",
     "text": [
      "Epoch 1 Step 8: Train loss=0.3133, acc=1.0000 | Val loss=0.2785, acc=1.0000\n"
     ]
    },
    {
     "name": "stderr",
     "output_type": "stream",
     "text": [
      "Epoch 2 [train]: 100%|████████████████████████████████████████████████████████████████████████████████████| 8/8 [00:00<00:00, 327.32it/s]\n"
     ]
    },
    {
     "name": "stdout",
     "output_type": "stream",
     "text": [
      "Epoch 2 Step 8: Train loss=0.2637, acc=1.0000 | Val loss=0.2313, acc=1.0000\n"
     ]
    },
    {
     "name": "stderr",
     "output_type": "stream",
     "text": [
      "Epoch 3 [train]: 100%|████████████████████████████████████████████████████████████████████████████████████| 8/8 [00:00<00:00, 470.81it/s]\n"
     ]
    },
    {
     "name": "stdout",
     "output_type": "stream",
     "text": [
      "Epoch 3 Step 8: Train loss=0.2173, acc=1.0000 | Val loss=0.1929, acc=1.0000\n"
     ]
    },
    {
     "name": "stderr",
     "output_type": "stream",
     "text": [
      "Epoch 4 [train]: 100%|████████████████████████████████████████████████████████████████████████████████████| 8/8 [00:00<00:00, 498.68it/s]\n"
     ]
    },
    {
     "name": "stdout",
     "output_type": "stream",
     "text": [
      "Epoch 4 Step 8: Train loss=0.1840, acc=1.0000 | Val loss=0.1613, acc=1.0000\n"
     ]
    },
    {
     "name": "stderr",
     "output_type": "stream",
     "text": [
      "Epoch 5 [train]: 100%|████████████████████████████████████████████████████████████████████████████████████| 8/8 [00:00<00:00, 513.22it/s]\n"
     ]
    },
    {
     "name": "stdout",
     "output_type": "stream",
     "text": [
      "Epoch 5 Step 8: Train loss=0.1545, acc=1.0000 | Val loss=0.1350, acc=1.0000\n"
     ]
    },
    {
     "name": "stderr",
     "output_type": "stream",
     "text": [
      "Epoch 6 [train]: 100%|████████████████████████████████████████████████████████████████████████████████████| 8/8 [00:00<00:00, 483.15it/s]\n"
     ]
    },
    {
     "name": "stdout",
     "output_type": "stream",
     "text": [
      "Epoch 6 Step 8: Train loss=0.1265, acc=1.0000 | Val loss=0.1128, acc=1.0000\n"
     ]
    },
    {
     "name": "stderr",
     "output_type": "stream",
     "text": [
      "Epoch 7 [train]: 100%|████████████████████████████████████████████████████████████████████████████████████| 8/8 [00:00<00:00, 501.70it/s]\n"
     ]
    },
    {
     "name": "stdout",
     "output_type": "stream",
     "text": [
      "Epoch 7 Step 8: Train loss=0.1064, acc=1.0000 | Val loss=0.0943, acc=1.0000\n"
     ]
    },
    {
     "name": "stderr",
     "output_type": "stream",
     "text": [
      "Epoch 8 [train]: 100%|████████████████████████████████████████████████████████████████████████████████████| 8/8 [00:00<00:00, 498.10it/s]\n"
     ]
    },
    {
     "name": "stdout",
     "output_type": "stream",
     "text": [
      "Epoch 8 Step 8: Train loss=0.0895, acc=1.0000 | Val loss=0.0786, acc=1.0000\n"
     ]
    },
    {
     "name": "stderr",
     "output_type": "stream",
     "text": [
      "Epoch 9 [train]: 100%|████████████████████████████████████████████████████████████████████████████████████| 8/8 [00:00<00:00, 487.15it/s]\n"
     ]
    },
    {
     "name": "stdout",
     "output_type": "stream",
     "text": [
      "Epoch 9 Step 8: Train loss=0.0777, acc=1.0000 | Val loss=0.0653, acc=1.0000\n"
     ]
    },
    {
     "name": "stderr",
     "output_type": "stream",
     "text": [
      "Epoch 10 [train]: 100%|███████████████████████████████████████████████████████████████████████████████████| 8/8 [00:00<00:00, 501.25it/s]\n"
     ]
    },
    {
     "name": "stdout",
     "output_type": "stream",
     "text": [
      "Epoch 10 Step 8: Train loss=0.0626, acc=1.0000 | Val loss=0.0544, acc=1.0000\n"
     ]
    },
    {
     "name": "stderr",
     "output_type": "stream",
     "text": [
      "Epoch 11 [train]: 100%|███████████████████████████████████████████████████████████████████████████████████| 8/8 [00:00<00:00, 487.92it/s]\n"
     ]
    },
    {
     "name": "stdout",
     "output_type": "stream",
     "text": [
      "Epoch 11 Step 8: Train loss=0.0525, acc=1.0000 | Val loss=0.0454, acc=1.0000\n"
     ]
    },
    {
     "name": "stderr",
     "output_type": "stream",
     "text": [
      "Epoch 12 [train]: 100%|███████████████████████████████████████████████████████████████████████████████████| 8/8 [00:00<00:00, 479.44it/s]\n"
     ]
    },
    {
     "name": "stdout",
     "output_type": "stream",
     "text": [
      "Epoch 12 Step 8: Train loss=0.0436, acc=1.0000 | Val loss=0.0375, acc=1.0000\n"
     ]
    },
    {
     "name": "stderr",
     "output_type": "stream",
     "text": [
      "Epoch 13 [train]: 100%|███████████████████████████████████████████████████████████████████████████████████| 8/8 [00:00<00:00, 485.55it/s]\n"
     ]
    },
    {
     "name": "stdout",
     "output_type": "stream",
     "text": [
      "Epoch 13 Step 8: Train loss=0.0367, acc=1.0000 | Val loss=0.0311, acc=1.0000\n"
     ]
    },
    {
     "name": "stderr",
     "output_type": "stream",
     "text": [
      "Epoch 14 [train]: 100%|███████████████████████████████████████████████████████████████████████████████████| 8/8 [00:00<00:00, 487.16it/s]\n"
     ]
    },
    {
     "name": "stdout",
     "output_type": "stream",
     "text": [
      "Epoch 14 Step 8: Train loss=0.0299, acc=1.0000 | Val loss=0.0257, acc=1.0000\n"
     ]
    },
    {
     "name": "stderr",
     "output_type": "stream",
     "text": [
      "Epoch 15 [train]: 100%|███████████████████████████████████████████████████████████████████████████████████| 8/8 [00:00<00:00, 484.18it/s]"
     ]
    },
    {
     "name": "stdout",
     "output_type": "stream",
     "text": [
      "Epoch 15 Step 8: Train loss=0.0252, acc=1.0000 | Val loss=0.0214, acc=1.0000\n"
     ]
    },
    {
     "name": "stderr",
     "output_type": "stream",
     "text": [
      "\n"
     ]
    }
   ],
   "source": [
    "import sys\n",
    "import runpy\n",
    "import json\n",
    "from pathlib import Path\n",
    "\n",
    "# Optionally override config for quick notebook tests\n",
    "notebook_config = {\n",
    "    'seq_len': 9,\n",
    "    'num_layers': 1,\n",
    "    'hidden_size': 4,\n",
    "    'batch_size': 8,\n",
    "    'train_size': 64,\n",
    "    'val_size': 128,\n",
    "    'learning_rate': 0.001,\n",
    "    'epochs': 15,\n",
    "    'pre_generate': False,\n",
    "    'seed': 1,\n",
    "}\n",
    "\n",
    "# Write a temporary config file\n",
    "tmp_config_path = Path('notebook_config.json')\n",
    "with open(tmp_config_path, 'w') as f:\n",
    "    json.dump(notebook_config, f)\n",
    "\n",
    "# Simulate command-line arguments\n",
    "sys.argv = ['train.py', '--config', str(tmp_config_path)]\n",
    "\n",
    "# Run the training script\n",
    "runpy.run_path('train.py', run_name='__main__')\n",
    "\n",
    "# Clean up\n",
    "tmp_config_path.unlink()"
   ]
  }
 ],
 "metadata": {
  "kernelspec": {
   "display_name": "Python 3 (ipykernel)",
   "language": "python",
   "name": "python3"
  },
  "language_info": {
   "codemirror_mode": {
    "name": "ipython",
    "version": 3
   },
   "file_extension": ".py",
   "mimetype": "text/x-python",
   "name": "python",
   "nbconvert_exporter": "python",
   "pygments_lexer": "ipython3",
   "version": "3.13.1"
  }
 },
 "nbformat": 4,
 "nbformat_minor": 4
}
